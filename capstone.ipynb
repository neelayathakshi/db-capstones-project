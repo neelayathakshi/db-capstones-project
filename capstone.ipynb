{
 "cells": [
  {
   "cell_type": "code",
   "execution_count": 1,
   "id": "82785f5e-8d08-4734-b6aa-227581c88528",
   "metadata": {},
   "outputs": [],
   "source": [
    "import mysql.connector as connector"
   ]
  },
  {
   "cell_type": "code",
   "execution_count": 7,
   "id": "12645586-3801-4762-94be-e4555d3fa37b",
   "metadata": {},
   "outputs": [],
   "source": [
    "connection = connector.connect(user = \"root\", password = \"Vidhya123!\")"
   ]
  },
  {
   "cell_type": "code",
   "execution_count": null,
   "id": "ea7e3fef-cf16-4e66-a044-d9385384dc25",
   "metadata": {},
   "outputs": [],
   "source": []
  },
  {
   "cell_type": "code",
   "execution_count": 10,
   "id": "a4b99986-f50b-4aa1-951a-13fc9bfd8b65",
   "metadata": {},
   "outputs": [],
   "source": [
    "cursor=connection.cursor(buffered=True)"
   ]
  },
  {
   "cell_type": "code",
   "execution_count": 18,
   "id": "77520f09-b089-4453-9b70-7e515b5da8fe",
   "metadata": {},
   "outputs": [],
   "source": [
    "cursor.execute(\"use little_lemon\")"
   ]
  },
  {
   "cell_type": "code",
   "execution_count": 27,
   "id": "34d34487-c05f-46c3-a567-ce43d3438b70",
   "metadata": {},
   "outputs": [],
   "source": [
    "cursor.execute(\"show tables\")"
   ]
  },
  {
   "cell_type": "code",
   "execution_count": 26,
   "id": "0e995a7f-db6b-4b48-ae1c-08f357def1ac",
   "metadata": {},
   "outputs": [],
   "source": [
    "squery=\"create table customers (customerid Int not null,fullname varchar(50)not null,contactno int not null,email varchar(50));\"\n",
    "cursor.execute(squery)"
   ]
  },
  {
   "cell_type": "code",
   "execution_count": 29,
   "id": "4c892259-6623-41ff-8357-32c06da290f6",
   "metadata": {},
   "outputs": [
    {
     "name": "stdout",
     "output_type": "stream",
     "text": [
      "('customers',)\n"
     ]
    }
   ],
   "source": [
    "cursor.execute(\"show tables\")\n",
    "reults=cursor.fetchall()\n",
    "for resut in reults:\n",
    "    print(resut)"
   ]
  },
  {
   "cell_type": "code",
   "execution_count": 33,
   "id": "03cdfb1c-e233-4c3e-9243-5fb12620f72d",
   "metadata": {},
   "outputs": [],
   "source": [
    "cquery=\"CREATE TABLE customerdetails (CustomerID int NOT NULL,Name varchar(45) NOT NULL,  ContactNumber varchar(45) NOT NULL,Email varchar(45) NOT NULL,PRIMARY KEY (CustomerID));\"\n",
    "cursor.execute(cquery)\n"
   ]
  },
  {
   "cell_type": "code",
   "execution_count": 34,
   "id": "8982ad6f-1347-44d9-8b57-32588d79e0d8",
   "metadata": {},
   "outputs": [],
   "source": [
    "iquery=\"INSERT INTO `customerdetails` VALUES (1,'John Doe','555-1234','customer1@email.com'),(2,'Jane Doe','555-2345','customer2@email.com'),(3,'Alice','555-3456','customer3@email.com'),(4,'Bob','555-4567','customer4@email.com'),(5,'Charlie','555-5678','customer5@email.com'),(6,'David','555-6789','customer6@email.com'),(7,'Emily','555-7890','customer7@email.com'),(8,'Frank','555-8901','customer8@email.com'),(9,'Grace','555-9012','customer9@email.com'),(10,'Hannah','555-0123','customer10@email.com');\"\n",
    "cursor.execute(iquery)\n",
    "\n"
   ]
  },
  {
   "cell_type": "code",
   "execution_count": 35,
   "id": "c8ca159a-8c90-4f2e-a05d-323db8b4ad5b",
   "metadata": {},
   "outputs": [],
   "source": [
    "mquery=\"CREATE TABLE menuitems (MenuItemsID int NOT NULL, CourseName varchar(45) DEFAULT NULL, StarterName varchar(45) DEFAULT NULL, DesertName varchar(45) DEFAULT NULL,  PRIMARY KEY (MenuItemsID));\"\n",
    "cursor.execute(mquery)"
   ]
  },
  {
   "cell_type": "code",
   "execution_count": 36,
   "id": "880c75dd-1ab8-4697-9614-ea30ccfab606",
   "metadata": {},
   "outputs": [],
   "source": [
    "miquery=\"INSERT INTO `menuitems` VALUES (1,'Grilled Chicken','Caesar Salad','Cheesecake'),(2,'Beef Steak','Tomato Soup','Chocolate Mousse'),(3,'Vegetarian Pizza','Garlic Bread','Fruit Salad'),(4,'Spaghetti Carbonara','Bruschetta','Tiramisu'),(5,'Fish and Chips','Coleslaw','Apple Pie'),(6,'Sushi Platter','Miso Soup','Green Tea Ice Cream'),(7,'BBQ Ribs','Cornbread','Peach Cobbler'),(8,'Chicken Curry','Samosas','Gulab Jamun'),(9,'Lobster Tail','Oysters','Key Lime Pie'),(10,'Vegan Burger','Sweet Potato Fries','Vegan Brownie');\"\n",
    "cursor.execute(miquery)\n"
   ]
  },
  {
   "cell_type": "code",
   "execution_count": 37,
   "id": "ecc35b01-a685-4256-ad5c-cf7a787351ad",
   "metadata": {},
   "outputs": [
    {
     "name": "stdout",
     "output_type": "stream",
     "text": [
      "('customerdetails',)\n",
      "('customers',)\n",
      "('menuitems',)\n"
     ]
    }
   ],
   "source": [
    "cursor.execute(\"show tables\")\n",
    "reults=cursor.fetchall()\n",
    "for resut in reults:\n",
    "    print(resut)"
   ]
  },
  {
   "cell_type": "code",
   "execution_count": 38,
   "id": "4a49f5ad-b6a0-4d7d-8db8-984e706b61bf",
   "metadata": {},
   "outputs": [],
   "source": [
    "mequery=\"CREATE TABLE menus (MenuID int NOT NULL AUTO_INCREMENT,MenuItemsID int NOT NULL,Name varchar(45) NOT NULL,Type varchar(45) NOT NULL,Price decimal(10,0) NOT NULL,Cuisine varchar(45) DEFAULT NULL,PRIMARY KEY (MenuID),KEY `menu_items_menu_fk_idx` (MenuItemsID), CONSTRAINT `menus_items_menu_fk` FOREIGN KEY (MenuItemsID) REFERENCES menuitems (MenuItemsID));\"\n",
    "cursor.execute(mequery)"
   ]
  },
  {
   "cell_type": "code",
   "execution_count": 39,
   "id": "f0c1282c-6ea9-449a-b2d6-7a8003758528",
   "metadata": {},
   "outputs": [],
   "source": [
    "meiquery=\"INSERT INTO menus VALUES (1,1,'Cheese Burger','Main',10,NULL),(2,2,'Veggie Burger','Main',9,NULL),(3,3,'French Fries','Side',3,NULL),(4,4,'Caesar Salad','Main',8,NULL),(5,5,'Chicken Wings','Appetizer',6,NULL),(6,6,'Coca Cola','Drink',2,NULL),(7,7,'Pasta','Main',11,NULL),(8,8,'Rice','Side',4,NULL),(9,9,'Margarita','Drink',5,NULL),(10,10,'Ice Cream','Dessert',4,NULL);\"\n",
    "cursor.execute(meiquery)\n"
   ]
  },
  {
   "cell_type": "code",
   "execution_count": 40,
   "id": "dc11ea6e-a2d2-4974-a8f8-dcae7588c4a8",
   "metadata": {},
   "outputs": [],
   "source": [
    "stquery=\"CREATE TABLE staffinformation (StaffID int NOT NULL AUTO_INCREMENT,Name varchar(45) NOT NULL, Role varchar(45) NOT NULL,Salary decimal(10,0) NOT NULL,  PRIMARY KEY (StaffID));\"\n",
    "\n",
    "cursor.execute(stquery)\n",
    "stiquery=\"INSERT INTO staffinformation VALUES (1,'Sarah','Manager',55000),(2,'Tom','Waiter',30000),(3,'Linda','Chef',40000),(4,'Robert','Cashier',31000),(5,'Daniel','Waiter',32000),(6,'Susan','Hostess',28000),(7,'Chris','Manager',60000),(8,'Jessica','Chef',38000),(9,'Brian','Waiter',29000),(10,'Kim','Hostess',27000);\"\n",
    "cursor.execute(stiquery)\n",
    "bquery=\"CREATE TABLE bookings (  BookingID int NOT NULL AUTO_INCREMENT,CustomerID int NOT NULL,StaffID int NOT NULL,Date datetime NOT NULL, TableNumber int NOT NULL,  PRIMARY KEY (BookingID),  KEY customer_fk_idx(CustomerID),  KEY staff_fk_idx (StaffID),  CONSTRAINT customer_fk FOREIGN KEY (CustomerID) REFERENCES customerdetails (CustomerID),  CONSTRAINT staff_fk FOREIGN KEY (StaffID) REFERENCES staffinformation(StaffID));\"\n",
    "cursor.execute(bquery)\n",
    "biquery=\"INSERT INTO bookings VALUES (1,1,1,'2023-09-01 12:00:00',10),(2,2,2,'2023-09-01 12:30:00',12),(3,3,3,'2023-09-02 13:00:00',14),(4,4,4,'2023-09-02 14:00:00',16),(5,5,5,'2023-09-03 15:00:00',18),(6,6,6,'2023-09-03 16:00:00',20),(7,7,7,'2023-09-04 17:00:00',22),(8,8,8,'2023-09-04 18:00:00',24),(10,10,10,'2023-09-05 20:00:00',28),(11,1,1,'2022-10-10 00:00:00',5),(12,3,2,'2022-11-12 00:00:00',3),(13,2,3,'2022-10-11 00:00:00',2),(14,1,1,'2022-10-13 00:00:00',2),(15,1,1,'2022-10-11 00:00:00',5),(16,1,2,'2022-10-10 00:00:00',5);\"\n",
    "cursor.execute(biquery)"
   ]
  },
  {
   "cell_type": "code",
   "execution_count": 42,
   "id": "2ef94bff-23f1-49fb-8a41-7716e30454ba",
   "metadata": {},
   "outputs": [],
   "source": [
    "oquery=\"CREATE TABLE orders (OrderID int NOT NULL ,CustomerID int NOT NULL,MenuItemID int NOT NULL,StaffID int NOT NULL,Date datetime NOT NULL, Quantity int NOT NULL,TotalCost decimal(10,0) NOT NULL,  PRIMARY KEY (OrderID),  KEY customer_fk_idx (CustomerID),  KEY menu_fk_idx (MenuItemID),  KEY staff_fk_idx (StaffID),  CONSTRAINT customer_orders_fk FOREIGN KEY (CustomerID) REFERENCES customerdetails (CustomerID),CONSTRAINT menu_orders_fk FOREIGN KEY (MenuItemID) REFERENCES menus (MenuID),CONSTRAINT staff_orders_fk FOREIGN KEY (StaffID) REFERENCES staffinformation (StaffID)) ;\"\n",
    "cursor.execute(oquery)"
   ]
  },
  {
   "cell_type": "code",
   "execution_count": 43,
   "id": "59e72005-ea52-460d-ab85-9f6b81164adf",
   "metadata": {},
   "outputs": [],
   "source": [
    "oiquery=\"INSERT INTO orders VALUES (1,1,1,1,'2023-09-01 12:00:00',2,171),(2,2,2,2,'2023-09-01 12:30:00',1,174),(3,3,3,3,'2023-09-02 13:00:00',3,358),(4,4,4,4,'2023-09-02 14:00:00',1,265),(6,6,6,6,'2023-09-03 16:00:00',2,465),(7,7,7,7,'2023-09-04 17:00:00',1,65),(8,8,8,8,'2023-09-04 18:00:00',2,437),(9,9,9,9,'2023-09-05 19:00:00',3,484),(10,10,10,10,'2023-09-05 20:00:00',1,111);\"\n",
    "cursor.execute(oiquery)\n"
   ]
  },
  {
   "cell_type": "code",
   "execution_count": 45,
   "id": "e1872b43-1e7e-4bf3-aac5-3d1552648532",
   "metadata": {},
   "outputs": [],
   "source": [
    "odquery=\"CREATE TABLE orderdeliverystatuses ( DeliveryID int NOT NULL,  OrderID int NOT NULL,Date datetime NOT NULL,Status varchar(45) NOT NULL,PRIMARY KEY (DeliveryID), KEY order_fk_idx (OrderID),  CONSTRAINT order_delivery_fk FOREIGN KEY (OrderID) REFERENCES orders (OrderID));\"\n",
    "cursor.execute(odquery)"
   ]
  },
  {
   "cell_type": "code",
   "execution_count": 46,
   "id": "96cc7791-6e5d-417b-9b6e-eb44259cf6a5",
   "metadata": {},
   "outputs": [],
   "source": [
    "odiquery=\"INSERT INTO `orderdeliverystatuses` VALUES (1,1,'2023-09-01 12:15:00','Delivered'),(2,2,'2023-09-01 12:45:00','Preparing'),(3,3,'2023-09-02 13:15:00','Preparing'),(4,4,'2023-09-02 14:15:00','Out for delivery'),(6,6,'2023-09-03 16:15:00','Delivered'),(7,7,'2023-09-04 17:15:00','Preparing'),(8,8,'2023-09-04 18:15:00','Delivered'),(9,9,'2023-09-05 19:15:00','Delivered'),(10,10,'2023-09-05 20:15:00','Delivered');\"\n",
    "cursor.execute(odiquery)\n"
   ]
  },
  {
   "cell_type": "code",
   "execution_count": 50,
   "id": "ca16668f-5272-49e5-8927-8061fc4f6827",
   "metadata": {},
   "outputs": [
    {
     "name": "stdout",
     "output_type": "stream",
     "text": [
      "('bookings',)\n",
      "('customerdetails',)\n",
      "('menuitems',)\n",
      "('menus',)\n",
      "('orderdeliverystatuses',)\n",
      "('orders',)\n",
      "('staffinformation',)\n"
     ]
    }
   ],
   "source": [
    "cursor.execute(\"show tables\")\n",
    "reults=cursor.fetchall()\n",
    "for resut in reults:\n",
    "    print(resut)"
   ]
  },
  {
   "cell_type": "code",
   "execution_count": 49,
   "id": "fe14db20-6195-44f7-9f65-df4a007c04fb",
   "metadata": {},
   "outputs": [],
   "source": [
    "dquery=\"Drop table customers;\"\n",
    "cursor.execute(dquery)"
   ]
  },
  {
   "cell_type": "code",
   "execution_count": 54,
   "id": "7a68556f-cf87-4907-b0a5-286abefe2a19",
   "metadata": {},
   "outputs": [],
   "source": [
    "t1query=\"select customerdetails.Name ,customerdetails.ContactNumber FROM orders Inner join customerdetails on orders.customerID=customerdetails.customerID where TotalCost>60;\"\n",
    "cursor.execute(t1query)"
   ]
  },
  {
   "cell_type": "code",
   "execution_count": 55,
   "id": "b03b14db-be29-4a2a-97b9-1ab5ce100195",
   "metadata": {},
   "outputs": [
    {
     "name": "stdout",
     "output_type": "stream",
     "text": [
      "('John Doe', '555-1234')\n",
      "('Jane Doe', '555-2345')\n",
      "('Alice', '555-3456')\n",
      "('Bob', '555-4567')\n",
      "('David', '555-6789')\n",
      "('Emily', '555-7890')\n",
      "('Frank', '555-8901')\n",
      "('Grace', '555-9012')\n",
      "('Hannah', '555-0123')\n"
     ]
    }
   ],
   "source": [
    "results=cursor.fetchall()\n",
    "for r in results:\n",
    "    print(r)"
   ]
  },
  {
   "cell_type": "code",
   "execution_count": null,
   "id": "f0b909e5-66a2-495f-a6f4-45918b6aed58",
   "metadata": {},
   "outputs": [],
   "source": []
  }
 ],
 "metadata": {
  "kernelspec": {
   "display_name": "Python 3 (ipykernel)",
   "language": "python",
   "name": "python3"
  },
  "language_info": {
   "codemirror_mode": {
    "name": "ipython",
    "version": 3
   },
   "file_extension": ".py",
   "mimetype": "text/x-python",
   "name": "python",
   "nbconvert_exporter": "python",
   "pygments_lexer": "ipython3",
   "version": "3.8.3"
  }
 },
 "nbformat": 4,
 "nbformat_minor": 5
}
